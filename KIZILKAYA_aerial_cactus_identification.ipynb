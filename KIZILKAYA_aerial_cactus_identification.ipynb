{
  "nbformat": 4,
  "nbformat_minor": 0,
  "metadata": {
    "colab": {
      "name": "KIZILKAYA_aerial_cactus_identification.ipynb",
      "version": "0.3.2",
      "provenance": [],
      "toc_visible": true,
      "include_colab_link": true
    },
    "kernelspec": {
      "name": "python3",
      "display_name": "Python 3"
    }
  },
  "cells": [
    {
      "cell_type": "markdown",
      "metadata": {
        "id": "view-in-github",
        "colab_type": "text"
      },
      "source": [
        "<a href=\"https://colab.research.google.com/github/BurakKizilkaya/Machine-Learning/blob/master/KIZILKAYA_aerial_cactus_identification.ipynb\" target=\"_parent\"><img src=\"https://colab.research.google.com/assets/colab-badge.svg\" alt=\"Open In Colab\"/></a>"
      ]
    },
    {
      "cell_type": "markdown",
      "metadata": {
        "id": "V_hGBaL_sf7v",
        "colab_type": "text"
      },
      "source": [
        "# CNG 562 - HOMEWORK 2"
      ]
    },
    {
      "cell_type": "markdown",
      "metadata": {
        "id": "aU4xn_zBzVed",
        "colab_type": "text"
      },
      "source": [
        "# Aerial Cactus Identification\n",
        "\n",
        "\n",
        "\n",
        "\n",
        "\n",
        "\n"
      ]
    },
    {
      "cell_type": "markdown",
      "metadata": {
        "id": "gTUNvy4ftARW",
        "colab_type": "text"
      },
      "source": [
        "## Convolution Neural Networks(CNN)"
      ]
    },
    {
      "cell_type": "code",
      "metadata": {
        "id": "_XNxrYWjAEGO",
        "colab_type": "code",
        "outputId": "b33cf2f1-d9d2-48fa-af0e-54609ebaf34c",
        "colab": {
          "resources": {
            "http://localhost:8080/nbextensions/google.colab/files.js": {
              "data": "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",
              "ok": true,
              "headers": [
                [
                  "content-type",
                  "application/javascript"
                ]
              ],
              "status": 200,
              "status_text": ""
            }
          },
          "base_uri": "https://localhost:8080/",
          "height": 91
        }
      },
      "source": [
        "#importing kaggle.json\n",
        "from google.colab import files\n",
        "files.upload()"
      ],
      "execution_count": 1,
      "outputs": [
        {
          "output_type": "display_data",
          "data": {
            "text/html": [
              "\n",
              "     <input type=\"file\" id=\"files-91e9967d-2b9b-4d49-8bbf-ac1f8ff91346\" name=\"files[]\" multiple disabled />\n",
              "     <output id=\"result-91e9967d-2b9b-4d49-8bbf-ac1f8ff91346\">\n",
              "      Upload widget is only available when the cell has been executed in the\n",
              "      current browser session. Please rerun this cell to enable.\n",
              "      </output>\n",
              "      <script src=\"/nbextensions/google.colab/files.js\"></script> "
            ],
            "text/plain": [
              "<IPython.core.display.HTML object>"
            ]
          },
          "metadata": {
            "tags": []
          }
        },
        {
          "output_type": "stream",
          "text": [
            "Saving kaggle.json to kaggle.json\n"
          ],
          "name": "stdout"
        },
        {
          "output_type": "execute_result",
          "data": {
            "text/plain": [
              "{'kaggle.json': b'{\"username\":\"burakkizilkaya\",\"key\":\"7c7b6f9585e0232bc29c2fa80e888786\"}'}"
            ]
          },
          "metadata": {
            "tags": []
          },
          "execution_count": 1
        }
      ]
    },
    {
      "cell_type": "code",
      "metadata": {
        "id": "70UwlFFY_x_7",
        "colab_type": "code",
        "outputId": "f3ed9dcd-0c8a-47d2-abc5-852618de619a",
        "colab": {
          "base_uri": "https://localhost:8080/",
          "height": 34
        }
      },
      "source": [
        "#if there is no kaggle directory, create a new one.\n",
        "!mkdir -p ~/.kaggle\n",
        "#copy kaggle.json file to kaggle directory\n",
        "!cp kaggle.json ~/.kaggle/\n",
        "#give owner read and write access permissions\n",
        "!chmod 600 ~/.kaggle/kaggle.json\n",
        "#check files in kaggle directory\n",
        "!ls ~/.kaggle"
      ],
      "execution_count": 2,
      "outputs": [
        {
          "output_type": "stream",
          "text": [
            "kaggle.json\n"
          ],
          "name": "stdout"
        }
      ]
    },
    {
      "cell_type": "code",
      "metadata": {
        "id": "k_Q0119N_1lW",
        "colab_type": "code",
        "colab": {
          "base_uri": "https://localhost:8080/",
          "height": 136
        },
        "outputId": "5bd1b9c5-a76b-43e0-8871-af0d065f1c2a"
      },
      "source": [
        "#install kaggle packages\n",
        "!pip install -q kaggle\n",
        "!pip install -q kaggle-cli"
      ],
      "execution_count": 3,
      "outputs": [
        {
          "output_type": "stream",
          "text": [
            "\u001b[K     |████████████████████████████████| 81kB 5.2MB/s \n",
            "\u001b[K     |████████████████████████████████| 5.3MB 14.8MB/s \n",
            "\u001b[K     |████████████████████████████████| 112kB 50.1MB/s \n",
            "\u001b[K     |████████████████████████████████| 102kB 29.6MB/s \n",
            "\u001b[K     |████████████████████████████████| 51kB 8.9MB/s \n",
            "\u001b[?25h  Building wheel for kaggle-cli (setup.py) ... \u001b[?25l\u001b[?25hdone\n",
            "  Building wheel for pyperclip (setup.py) ... \u001b[?25l\u001b[?25hdone\n"
          ],
          "name": "stdout"
        }
      ]
    },
    {
      "cell_type": "code",
      "metadata": {
        "id": "cvIuNsjT_4L2",
        "colab_type": "code",
        "outputId": "cfc06432-67e9-47bb-9bf0-8b833b907833",
        "colab": {
          "base_uri": "https://localhost:8080/",
          "height": 68
        }
      },
      "source": [
        "#download cactus-aerial-photos dataset\n",
        "!kaggle datasets download -d irvingvasquez/cactus-aerial-photos"
      ],
      "execution_count": 4,
      "outputs": [
        {
          "output_type": "stream",
          "text": [
            "Downloading cactus-aerial-photos.zip to /content\n",
            "100% 47.3M/47.3M [00:00<00:00, 46.9MB/s]\n",
            "\n"
          ],
          "name": "stdout"
        }
      ]
    },
    {
      "cell_type": "code",
      "metadata": {
        "id": "zPq2PZNUATck",
        "colab_type": "code",
        "outputId": "ae2e2f8f-bacb-4de5-f95d-08417005c7eb",
        "colab": {
          "base_uri": "https://localhost:8080/",
          "height": 68
        }
      },
      "source": [
        "#unzip downloaded dataset file\n",
        "!unzip cactus-aerial-photos.zip\n"
      ],
      "execution_count": 5,
      "outputs": [
        {
          "output_type": "stream",
          "text": [
            "Archive:  cactus-aerial-photos.zip\n",
            "  inflating: training_set.zip        \n",
            "  inflating: validation_set.zip      \n"
          ],
          "name": "stdout"
        }
      ]
    },
    {
      "cell_type": "code",
      "metadata": {
        "id": "cP5TLTLhTZqS",
        "colab_type": "code",
        "colab": {}
      },
      "source": [
        "#unzip downloaded train and validation datasets\n",
        "!unzip training_set.zip\n",
        "!unzip validation_set.zip"
      ],
      "execution_count": 0,
      "outputs": []
    },
    {
      "cell_type": "code",
      "metadata": {
        "id": "qZ8Yk2sUTLXr",
        "colab_type": "code",
        "outputId": "df983eca-0d02-4da6-dd5d-f867efa58c6d",
        "colab": {
          "base_uri": "https://localhost:8080/",
          "height": 34
        }
      },
      "source": [
        "# Using Keras Sequential Model\n",
        "\n",
        "#import libraries\n",
        "from keras.models import Sequential\n",
        "from keras.layers import Conv2D\n",
        "from keras.layers import MaxPool2D\n",
        "from keras.layers import Flatten\n",
        "from keras.layers import Dense\n",
        "from keras.preprocessing.image import ImageDataGenerator\n",
        "\n",
        "cnn = Sequential()"
      ],
      "execution_count": 7,
      "outputs": [
        {
          "output_type": "stream",
          "text": [
            "Using TensorFlow backend.\n"
          ],
          "name": "stderr"
        }
      ]
    },
    {
      "cell_type": "code",
      "metadata": {
        "id": "v0w4QTRCTPsC",
        "colab_type": "code",
        "outputId": "0642c2ab-7e94-4084-9de4-a24416f49a89",
        "colab": {
          "base_uri": "https://localhost:8080/",
          "height": 88
        }
      },
      "source": [
        "#Adding 1st Convolution and Pooling Layer\n",
        "cnn.add(Conv2D(32,kernel_size=(3,3),input_shape = (64, 64, 3), activation = 'relu'))\n",
        "cnn.add(MaxPool2D(pool_size=(2,2)))\n",
        "\n",
        "#Adding 2nd Convolution and Pooling Layer\n",
        "cnn.add(Conv2D(32,kernel_size=(3,3),activation = 'relu'))\n",
        "cnn.add(MaxPool2D(pool_size=(2,2)))\n",
        "\n",
        "#Adding 3rd Convolution and Pooling Layer\n",
        "cnn.add(Conv2D(32,kernel_size=(3,3), activation = 'relu'))\n",
        "cnn.add(MaxPool2D(pool_size=(2,2)))\n",
        "\n",
        "#Adding 4th Convolution and Pooling Layer\n",
        "cnn.add(Conv2D(32,kernel_size=(3,3), activation = 'relu'))\n",
        "cnn.add(MaxPool2D(pool_size=(2,2)))\n",
        "\n",
        "#Flattening\n",
        "cnn.add(Flatten())\n",
        "\n",
        "cnn.add(Dense(units=128,activation='relu'))\n",
        "cnn.add(Dense(units = 1, activation = 'sigmoid'))\n",
        "\n",
        "#compile the model\n",
        "cnn.compile(optimizer = 'adam', loss = 'binary_crossentropy', metrics = ['accuracy'])"
      ],
      "execution_count": 8,
      "outputs": [
        {
          "output_type": "stream",
          "text": [
            "WARNING:tensorflow:From /usr/local/lib/python3.6/dist-packages/tensorflow/python/framework/op_def_library.py:263: colocate_with (from tensorflow.python.framework.ops) is deprecated and will be removed in a future version.\n",
            "Instructions for updating:\n",
            "Colocations handled automatically by placer.\n"
          ],
          "name": "stdout"
        }
      ]
    },
    {
      "cell_type": "code",
      "metadata": {
        "id": "5AHH36jITq5n",
        "colab_type": "code",
        "outputId": "e016f1c9-8c69-4918-c932-a2dbcf824a39",
        "colab": {
          "base_uri": "https://localhost:8080/",
          "height": 51
        }
      },
      "source": [
        "# data generation from cactus images\n",
        "traindatagen = ImageDataGenerator(rescale=1./255,shear_range=0.2,zoom_range=0.2,horizontal_flip=True)\n",
        "testdatagen = ImageDataGenerator(rescale=1./255)\n",
        "train = traindatagen.flow_from_directory('training_set', target_size=(64,64), batch_size=32, class_mode = 'binary')\n",
        "test = testdatagen.flow_from_directory('validation_set', target_size=(64,64), batch_size=32, class_mode = 'binary')"
      ],
      "execution_count": 9,
      "outputs": [
        {
          "output_type": "stream",
          "text": [
            "Found 17500 images belonging to 2 classes.\n",
            "Found 4000 images belonging to 2 classes.\n"
          ],
          "name": "stdout"
        }
      ]
    },
    {
      "cell_type": "code",
      "metadata": {
        "id": "wPu2xHryUAEh",
        "colab_type": "code",
        "outputId": "de18a9c5-103f-4989-efe2-4eb395f994cc",
        "colab": {
          "base_uri": "https://localhost:8080/",
          "height": 1108
        }
      },
      "source": [
        "# train the model on data \n",
        "acc = cnn.fit_generator(train, steps_per_epoch = 100, epochs = 30, validation_data = test, validation_steps = 50)"
      ],
      "execution_count": 10,
      "outputs": [
        {
          "output_type": "stream",
          "text": [
            "WARNING:tensorflow:From /usr/local/lib/python3.6/dist-packages/tensorflow/python/ops/math_ops.py:3066: to_int32 (from tensorflow.python.ops.math_ops) is deprecated and will be removed in a future version.\n",
            "Instructions for updating:\n",
            "Use tf.cast instead.\n",
            "Epoch 1/30\n",
            "100/100 [==============================] - 29s 292ms/step - loss: 0.3912 - acc: 0.8206 - val_loss: 0.2353 - val_acc: 0.9169\n",
            "Epoch 2/30\n",
            "100/100 [==============================] - 28s 283ms/step - loss: 0.2281 - acc: 0.9206 - val_loss: 0.2057 - val_acc: 0.9275\n",
            "Epoch 3/30\n",
            "100/100 [==============================] - 28s 281ms/step - loss: 0.1931 - acc: 0.9231 - val_loss: 0.2017 - val_acc: 0.9163\n",
            "Epoch 4/30\n",
            "100/100 [==============================] - 28s 282ms/step - loss: 0.1597 - acc: 0.9394 - val_loss: 0.2098 - val_acc: 0.9187\n",
            "Epoch 5/30\n",
            "100/100 [==============================] - 28s 282ms/step - loss: 0.1471 - acc: 0.9416 - val_loss: 0.1937 - val_acc: 0.9356\n",
            "Epoch 6/30\n",
            "100/100 [==============================] - 28s 284ms/step - loss: 0.1386 - acc: 0.9496 - val_loss: 0.1475 - val_acc: 0.9413\n",
            "Epoch 7/30\n",
            "100/100 [==============================] - 28s 281ms/step - loss: 0.1167 - acc: 0.9550 - val_loss: 0.1385 - val_acc: 0.9500\n",
            "Epoch 8/30\n",
            "100/100 [==============================] - 28s 280ms/step - loss: 0.1477 - acc: 0.9419 - val_loss: 0.1786 - val_acc: 0.9381\n",
            "Epoch 9/30\n",
            "100/100 [==============================] - 28s 280ms/step - loss: 0.1208 - acc: 0.9547 - val_loss: 0.2076 - val_acc: 0.9231\n",
            "Epoch 10/30\n",
            "100/100 [==============================] - 28s 281ms/step - loss: 0.1174 - acc: 0.9597 - val_loss: 0.1295 - val_acc: 0.9556\n",
            "Epoch 11/30\n",
            "100/100 [==============================] - 28s 280ms/step - loss: 0.1211 - acc: 0.9556 - val_loss: 0.1450 - val_acc: 0.9481\n",
            "Epoch 12/30\n",
            "100/100 [==============================] - 28s 279ms/step - loss: 0.1126 - acc: 0.9591 - val_loss: 0.1156 - val_acc: 0.9575\n",
            "Epoch 13/30\n",
            "100/100 [==============================] - 28s 280ms/step - loss: 0.1042 - acc: 0.9647 - val_loss: 0.1714 - val_acc: 0.9319\n",
            "Epoch 14/30\n",
            "100/100 [==============================] - 28s 278ms/step - loss: 0.1031 - acc: 0.9619 - val_loss: 0.1537 - val_acc: 0.9444\n",
            "Epoch 15/30\n",
            "100/100 [==============================] - 28s 280ms/step - loss: 0.0948 - acc: 0.9631 - val_loss: 0.1027 - val_acc: 0.9587\n",
            "Epoch 16/30\n",
            "100/100 [==============================] - 28s 279ms/step - loss: 0.0910 - acc: 0.9678 - val_loss: 0.1159 - val_acc: 0.9519\n",
            "Epoch 17/30\n",
            "100/100 [==============================] - 28s 283ms/step - loss: 0.0937 - acc: 0.9646 - val_loss: 0.1332 - val_acc: 0.9481\n",
            "Epoch 18/30\n",
            "100/100 [==============================] - 28s 279ms/step - loss: 0.0869 - acc: 0.9647 - val_loss: 0.1833 - val_acc: 0.9325\n",
            "Epoch 19/30\n",
            "100/100 [==============================] - 28s 279ms/step - loss: 0.0857 - acc: 0.9703 - val_loss: 0.1155 - val_acc: 0.9550\n",
            "Epoch 20/30\n",
            "100/100 [==============================] - 28s 279ms/step - loss: 0.0749 - acc: 0.9741 - val_loss: 0.3156 - val_acc: 0.8962\n",
            "Epoch 21/30\n",
            "100/100 [==============================] - 28s 279ms/step - loss: 0.0950 - acc: 0.9647 - val_loss: 0.1110 - val_acc: 0.9531\n",
            "Epoch 22/30\n",
            "100/100 [==============================] - 28s 279ms/step - loss: 0.0843 - acc: 0.9697 - val_loss: 0.2043 - val_acc: 0.9181\n",
            "Epoch 23/30\n",
            "100/100 [==============================] - 28s 280ms/step - loss: 0.0734 - acc: 0.9741 - val_loss: 0.1341 - val_acc: 0.9469\n",
            "Epoch 24/30\n",
            "100/100 [==============================] - 28s 282ms/step - loss: 0.0600 - acc: 0.9784 - val_loss: 0.1244 - val_acc: 0.9481\n",
            "Epoch 25/30\n",
            "100/100 [==============================] - 28s 280ms/step - loss: 0.0729 - acc: 0.9712 - val_loss: 0.1127 - val_acc: 0.9544\n",
            "Epoch 26/30\n",
            "100/100 [==============================] - 28s 279ms/step - loss: 0.0801 - acc: 0.9719 - val_loss: 0.1039 - val_acc: 0.9550\n",
            "Epoch 27/30\n",
            "100/100 [==============================] - 28s 279ms/step - loss: 0.0756 - acc: 0.9731 - val_loss: 0.0872 - val_acc: 0.9675\n",
            "Epoch 28/30\n",
            "100/100 [==============================] - 28s 282ms/step - loss: 0.0619 - acc: 0.9794 - val_loss: 0.0915 - val_acc: 0.9575\n",
            "Epoch 29/30\n",
            "100/100 [==============================] - 28s 279ms/step - loss: 0.0682 - acc: 0.9753 - val_loss: 0.0924 - val_acc: 0.9637\n",
            "Epoch 30/30\n",
            "100/100 [==============================] - 28s 280ms/step - loss: 0.0670 - acc: 0.9756 - val_loss: 0.1693 - val_acc: 0.9281\n"
          ],
          "name": "stdout"
        }
      ]
    },
    {
      "cell_type": "markdown",
      "metadata": {
        "id": "VTgj0cmvIw5L",
        "colab_type": "text"
      },
      "source": [
        "# Transfer Learning"
      ]
    },
    {
      "cell_type": "code",
      "metadata": {
        "id": "VwufLc4yI2pS",
        "colab_type": "code",
        "colab": {
          "base_uri": "https://localhost:8080/",
          "height": 51
        },
        "outputId": "3b3a2a35-e056-4f58-e2e1-ae80620b1819"
      },
      "source": [
        "# RESNET50 from keras\n",
        "from keras.applications.resnet50 import ResNet50\n",
        "from keras.preprocessing import image\n",
        "from keras.applications.resnet50 import preprocess_input, decode_predictions\n",
        "from tensorflow.python.keras import optimizers\n",
        "import numpy as np\n",
        "\n",
        "model = Sequential()\n",
        "\n",
        "model.add(ResNet50(weights='imagenet'))\n",
        "model.add(Dense(1, activation = 'relu'))\n",
        "\n",
        "# dont train first layer (ResNet) model as it is already trained\n",
        "model.layers[0].trainable = False\n",
        "\n",
        "# data generation from cactus images\n",
        "traindatagen = ImageDataGenerator(rescale=1./255,shear_range=0.2,zoom_range=0.2,horizontal_flip=True)\n",
        "testdatagen = ImageDataGenerator(rescale=1./255)\n",
        "train = traindatagen.flow_from_directory('training_set', target_size=(224,224), batch_size=32, class_mode = 'binary')\n",
        "test = testdatagen.flow_from_directory('validation_set', target_size=(224,224), batch_size=32, class_mode = 'binary')\n",
        "\n",
        "\n",
        "model.compile(optimizer = 'adam', loss = 'binary_crossentropy', metrics = ['accuracy'])\n",
        "\n"
      ],
      "execution_count": 15,
      "outputs": [
        {
          "output_type": "stream",
          "text": [
            "Found 17500 images belonging to 2 classes.\n",
            "Found 4000 images belonging to 2 classes.\n"
          ],
          "name": "stdout"
        }
      ]
    },
    {
      "cell_type": "code",
      "metadata": {
        "id": "XUIbg9cs0rvt",
        "colab_type": "code",
        "colab": {
          "base_uri": "https://localhost:8080/",
          "height": 71
        },
        "outputId": "a22d4567-758d-4d34-fe3c-15672d4596c1"
      },
      "source": [
        "# epoch number can be increased to 30. It is kept as 1 since it takes too much time\n",
        "acc = model.fit_generator(train, steps_per_epoch = 100, epochs = 1, validation_data = test, validation_steps = 50)\n"
      ],
      "execution_count": 16,
      "outputs": [
        {
          "output_type": "stream",
          "text": [
            "Epoch 1/1\n",
            "100/100 [==============================] - 1447s 14s/step - loss: 0.9256 - acc: 0.7534 - val_loss: 0.7526 - val_acc: 0.7481\n"
          ],
          "name": "stdout"
        }
      ]
    }
  ]
}