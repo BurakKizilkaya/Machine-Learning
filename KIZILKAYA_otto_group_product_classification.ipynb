{
  "nbformat": 4,
  "nbformat_minor": 0,
  "metadata": {
    "colab": {
      "name": "KIZILKAYA_otto_group_product_classification.ipynb",
      "version": "0.3.2",
      "provenance": [],
      "collapsed_sections": [],
      "include_colab_link": true
    },
    "kernelspec": {
      "name": "python3",
      "display_name": "Python 3"
    }
  },
  "cells": [
    {
      "cell_type": "markdown",
      "metadata": {
        "id": "view-in-github",
        "colab_type": "text"
      },
      "source": [
        "<a href=\"https://colab.research.google.com/github/BurakKizilkaya/Machine-Learning/blob/master/KIZILKAYA_otto_group_product_classification.ipynb\" target=\"_parent\"><img src=\"https://colab.research.google.com/assets/colab-badge.svg\" alt=\"Open In Colab\"/></a>"
      ]
    },
    {
      "cell_type": "markdown",
      "metadata": {
        "id": "V_hGBaL_sf7v",
        "colab_type": "text"
      },
      "source": [
        "# CNG 562 - HOMEWORK 2"
      ]
    },
    {
      "cell_type": "markdown",
      "metadata": {
        "id": "aU4xn_zBzVed",
        "colab_type": "text"
      },
      "source": [
        "# Otto Group Product Classification\n",
        "\n",
        "\n",
        "\n",
        "\n",
        "\n",
        "\n"
      ]
    },
    {
      "cell_type": "markdown",
      "metadata": {
        "id": "gTUNvy4ftARW",
        "colab_type": "text"
      },
      "source": [
        "## Multi-layer Perceptron (MLP)"
      ]
    },
    {
      "cell_type": "code",
      "metadata": {
        "id": "kvpBkujdfogw",
        "colab_type": "code",
        "colab": {}
      },
      "source": [
        "#importing train data\n",
        "\n",
        "from google.colab import files\n",
        "files.upload()"
      ],
      "execution_count": 0,
      "outputs": []
    },
    {
      "cell_type": "code",
      "metadata": {
        "id": "_8RBMk9wpFAG",
        "colab_type": "code",
        "colab": {}
      },
      "source": [
        "#import data from .csv file\n",
        "import pandas as pd\n",
        "import numpy as np\n",
        "data = pd.read_csv(\"otto.csv\")"
      ],
      "execution_count": 0,
      "outputs": []
    },
    {
      "cell_type": "code",
      "metadata": {
        "id": "-P0va0uwpPNo",
        "colab_type": "code",
        "colab": {}
      },
      "source": [
        "data"
      ],
      "execution_count": 0,
      "outputs": []
    },
    {
      "cell_type": "code",
      "metadata": {
        "id": "xEqXyLPepacf",
        "colab_type": "code",
        "colab": {}
      },
      "source": [
        "#split test and train data\n",
        "from sklearn.model_selection import train_test_split\n",
        "\n",
        "x = np.array(data.drop('target', axis=1))\n",
        "y = np.array(data['target'])\n",
        "\n",
        "xtrain, xtest, ytrain, ytest = train_test_split(x, y, test_size=0.25, random_state=0)"
      ],
      "execution_count": 0,
      "outputs": []
    },
    {
      "cell_type": "code",
      "metadata": {
        "id": "68vgZRHNqJ_u",
        "colab_type": "code",
        "colab": {}
      },
      "source": [
        "from sklearn.neural_network import MLPClassifier\n",
        "clf = MLPClassifier()\n",
        "clf.fit(xtrain, ytrain)"
      ],
      "execution_count": 0,
      "outputs": []
    },
    {
      "cell_type": "code",
      "metadata": {
        "id": "jY3o9uVgqjIG",
        "colab_type": "code",
        "colab": {}
      },
      "source": [
        "# accuracy score of MLP\n",
        "clf.score(xtest,ytest)"
      ],
      "execution_count": 0,
      "outputs": []
    },
    {
      "cell_type": "markdown",
      "metadata": {
        "id": "GB-xj1rKtL8p",
        "colab_type": "text"
      },
      "source": [
        "## K-Nearest Neighbours"
      ]
    },
    {
      "cell_type": "code",
      "metadata": {
        "id": "_NNvyPIOtR1B",
        "colab_type": "code",
        "outputId": "acfc8434-20df-4ba9-abdd-85bf16840509",
        "colab": {
          "base_uri": "https://localhost:8080/",
          "height": 34
        }
      },
      "source": [
        "#knn with sklearn\n",
        "from sklearn.neighbors import KNeighborsClassifier\n",
        "from sklearn import metrics\n",
        "from sklearn.metrics import roc_curve\n",
        "from sklearn.metrics import roc_auc_score\n",
        "\n",
        "neigh = KNeighborsClassifier()\n",
        "neigh.fit(xtrain, ytrain) \n",
        "ypred = neigh.predict(xtest)\n",
        "\n",
        "print(\"Accuracy:\",metrics.accuracy_score(ytest, ypred))\n",
        "\n",
        "#probs = neigh.predict_proba(xtest)\n",
        "#probs = probs[:, 1]\n",
        "# calculate AUC\n",
        "#auc = roc_auc_score(ytest, probs)\n",
        "#print('AUC: %.3f' % auc)\n",
        "# calculate roc curve\n",
        "#fpr, tpr, thresholds = roc_curve(ytest, probs)\n",
        "# plot no skill\n",
        "#pyplot.plot([0, 1], [0, 1], linestyle='--')\n",
        "# plot the roc curve for the model\n",
        "#pyplot.plot(fpr, tpr, marker='.')\n",
        "# show the plot\n",
        "#pyplot.show()"
      ],
      "execution_count": 0,
      "outputs": [
        {
          "output_type": "stream",
          "text": [
            "Accuracy: 0.9998707175177763\n"
          ],
          "name": "stdout"
        }
      ]
    },
    {
      "cell_type": "markdown",
      "metadata": {
        "id": "4nmo5WNGujiV",
        "colab_type": "text"
      },
      "source": [
        "## Support Vector Machines"
      ]
    },
    {
      "cell_type": "code",
      "metadata": {
        "id": "5UccExi1umeT",
        "colab_type": "code",
        "outputId": "de3095a7-b541-442d-a25d-8284e170f0e6",
        "colab": {
          "base_uri": "https://localhost:8080/",
          "height": 34
        }
      },
      "source": [
        "# svm with sklearn\n",
        "from sklearn import svm\n",
        "supp = svm.SVC(gamma='scale')\n",
        "supp.fit(xtrain, ytrain)\n",
        "ypred = supp.predict(xtest)\n",
        "\n",
        "print(\"Accuracy:\",metrics.accuracy_score(ytest, ypred))"
      ],
      "execution_count": 0,
      "outputs": [
        {
          "output_type": "stream",
          "text": [
            "Accuracy: 0.9989010989010989\n"
          ],
          "name": "stdout"
        }
      ]
    },
    {
      "cell_type": "markdown",
      "metadata": {
        "id": "1_BQFO7bu2V8",
        "colab_type": "text"
      },
      "source": [
        "## Random Forest"
      ]
    },
    {
      "cell_type": "code",
      "metadata": {
        "id": "_CCcP2d9vWIg",
        "colab_type": "code",
        "outputId": "18e676ee-63fd-47b3-8d1d-d9b30101ec73",
        "colab": {
          "base_uri": "https://localhost:8080/",
          "height": 34
        }
      },
      "source": [
        "# random forest with sklearn\n",
        "from sklearn.ensemble import RandomForestClassifier\n",
        "\n",
        "rnf=RandomForestClassifier(n_estimators=100)\n",
        "\n",
        "#Train the model using the training sets y_pred=clf.predict(X_test)\n",
        "rnf.fit(xtrain,ytrain)\n",
        "\n",
        "ypred=clf.predict(xtest)\n",
        "print(\"Accuracy:\",metrics.accuracy_score(ytest, ypred))"
      ],
      "execution_count": 0,
      "outputs": [
        {
          "output_type": "stream",
          "text": [
            "Accuracy: 0.7205559146735617\n"
          ],
          "name": "stdout"
        }
      ]
    },
    {
      "cell_type": "markdown",
      "metadata": {
        "id": "AU2foOj-v9ix",
        "colab_type": "text"
      },
      "source": [
        "## XGBoost"
      ]
    },
    {
      "cell_type": "code",
      "metadata": {
        "id": "7WEE_eP0wNkZ",
        "colab_type": "code",
        "outputId": "39f2fe96-8d44-41df-d339-51749c3b1455",
        "colab": {
          "base_uri": "https://localhost:8080/",
          "height": 34
        }
      },
      "source": [
        "from xgboost import XGBClassifier\n",
        "\n",
        "xgb = XGBClassifier()\n",
        "xgb.fit(xtrain, ytrain)\n",
        "\n",
        "ypred=clf.predict(xtest)\n",
        "print(\"Accuracy:\",metrics.accuracy_score(ytest, ypred))\n",
        "\n",
        "\n",
        "\n",
        "\n"
      ],
      "execution_count": 0,
      "outputs": [
        {
          "output_type": "stream",
          "text": [
            "Accuracy: 0.7205559146735617\n"
          ],
          "name": "stdout"
        }
      ]
    }
  ]
}