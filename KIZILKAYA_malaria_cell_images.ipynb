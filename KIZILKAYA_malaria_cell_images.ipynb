{
  "nbformat": 4,
  "nbformat_minor": 0,
  "metadata": {
    "colab": {
      "name": "KIZILKAYA_malaria_cell_images.ipynb",
      "version": "0.3.2",
      "provenance": [],
      "toc_visible": true,
      "include_colab_link": true
    },
    "kernelspec": {
      "name": "python3",
      "display_name": "Python 3"
    }
  },
  "cells": [
    {
      "cell_type": "markdown",
      "metadata": {
        "id": "view-in-github",
        "colab_type": "text"
      },
      "source": [
        "<a href=\"https://colab.research.google.com/github/BurakKizilkaya/Machine-Learning/blob/master/KIZILKAYA_malaria_cell_images.ipynb\" target=\"_parent\"><img src=\"https://colab.research.google.com/assets/colab-badge.svg\" alt=\"Open In Colab\"/></a>"
      ]
    },
    {
      "cell_type": "markdown",
      "metadata": {
        "id": "V_hGBaL_sf7v",
        "colab_type": "text"
      },
      "source": [
        "# CNG 562 - HOMEWORK 2"
      ]
    },
    {
      "cell_type": "markdown",
      "metadata": {
        "id": "aU4xn_zBzVed",
        "colab_type": "text"
      },
      "source": [
        "# Detecting Malaria from Cell Images\n",
        "\n",
        "\n",
        "\n",
        "\n",
        "\n",
        "\n"
      ]
    },
    {
      "cell_type": "markdown",
      "metadata": {
        "id": "gTUNvy4ftARW",
        "colab_type": "text"
      },
      "source": [
        "## Convolution Neural Networks(CNN)"
      ]
    },
    {
      "cell_type": "code",
      "metadata": {
        "id": "_XNxrYWjAEGO",
        "colab_type": "code",
        "outputId": "cbac8abc-1ff2-4d3e-8c39-caa43b50a6ce",
        "colab": {
          "resources": {
            "http://localhost:8080/nbextensions/google.colab/files.js": {
              "data": "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",
              "ok": true,
              "headers": [
                [
                  "content-type",
                  "application/javascript"
                ]
              ],
              "status": 200,
              "status_text": ""
            }
          },
          "base_uri": "https://localhost:8080/",
          "height": 91
        }
      },
      "source": [
        "#importing train data\n",
        "\n",
        "from google.colab import files\n",
        "files.upload()"
      ],
      "execution_count": 1,
      "outputs": [
        {
          "output_type": "display_data",
          "data": {
            "text/html": [
              "\n",
              "     <input type=\"file\" id=\"files-10bfa288-0c1f-4df8-bd66-0e466f42cc7b\" name=\"files[]\" multiple disabled />\n",
              "     <output id=\"result-10bfa288-0c1f-4df8-bd66-0e466f42cc7b\">\n",
              "      Upload widget is only available when the cell has been executed in the\n",
              "      current browser session. Please rerun this cell to enable.\n",
              "      </output>\n",
              "      <script src=\"/nbextensions/google.colab/files.js\"></script> "
            ],
            "text/plain": [
              "<IPython.core.display.HTML object>"
            ]
          },
          "metadata": {
            "tags": []
          }
        },
        {
          "output_type": "stream",
          "text": [
            "Saving kaggle.json to kaggle (1).json\n"
          ],
          "name": "stdout"
        },
        {
          "output_type": "execute_result",
          "data": {
            "text/plain": [
              "{'kaggle.json': b'{\"username\":\"burakkizilkaya\",\"key\":\"7c7b6f9585e0232bc29c2fa80e888786\"}'}"
            ]
          },
          "metadata": {
            "tags": []
          },
          "execution_count": 1
        }
      ]
    },
    {
      "cell_type": "code",
      "metadata": {
        "id": "70UwlFFY_x_7",
        "colab_type": "code",
        "outputId": "f1008b77-191d-4827-b419-571c02bb96b5",
        "colab": {
          "base_uri": "https://localhost:8080/",
          "height": 34
        }
      },
      "source": [
        "#if there is no kaggle directory, create a new one.\n",
        "!mkdir -p ~/.kaggle\n",
        "#copy kaggle.json file to kaggle directory\n",
        "!cp kaggle.json ~/.kaggle/\n",
        "#give owner read and write access permissions\n",
        "!chmod 600 ~/.kaggle/kaggle.json\n",
        "#check files in kaggle directory\n",
        "!ls ~/.kaggle"
      ],
      "execution_count": 2,
      "outputs": [
        {
          "output_type": "stream",
          "text": [
            "kaggle.json\n"
          ],
          "name": "stdout"
        }
      ]
    },
    {
      "cell_type": "code",
      "metadata": {
        "id": "k_Q0119N_1lW",
        "colab_type": "code",
        "colab": {}
      },
      "source": [
        "#install kaggle packages\n",
        "!pip install -q kaggle\n",
        "!pip install -q kaggle-cli"
      ],
      "execution_count": 0,
      "outputs": []
    },
    {
      "cell_type": "code",
      "metadata": {
        "id": "cvIuNsjT_4L2",
        "colab_type": "code",
        "outputId": "887dcce6-da6c-4c91-882e-edcbf52356f3",
        "colab": {
          "base_uri": "https://localhost:8080/",
          "height": 68
        }
      },
      "source": [
        "#download cell-images dataset\n",
        "!kaggle datasets download -d iarunava/cell-images-for-detecting-malaria\n"
      ],
      "execution_count": 5,
      "outputs": [
        {
          "output_type": "stream",
          "text": [
            "Downloading cell-images-for-detecting-malaria.zip to /content\n",
            " 97% 328M/337M [00:05<00:00, 87.8MB/s]\n",
            "100% 337M/337M [00:05<00:00, 66.8MB/s]\n"
          ],
          "name": "stdout"
        }
      ]
    },
    {
      "cell_type": "code",
      "metadata": {
        "id": "zPq2PZNUATck",
        "colab_type": "code",
        "colab": {}
      },
      "source": [
        "#unzip downloaded dataset file\n",
        "!unzip cell-images-for-detecting-malaria.zip\n"
      ],
      "execution_count": 0,
      "outputs": []
    },
    {
      "cell_type": "code",
      "metadata": {
        "id": "2y3CzNizFa-7",
        "colab_type": "code",
        "outputId": "26d27a38-c303-496d-800a-d854ef09fd43",
        "colab": {
          "base_uri": "https://localhost:8080/",
          "height": 34
        }
      },
      "source": [
        "# Using Keras Sequential Model\n",
        "\n",
        "#import libraries\n",
        "from keras.models import Sequential\n",
        "from keras.layers import Conv2D\n",
        "from keras.layers import MaxPool2D\n",
        "from keras.layers import Flatten\n",
        "from keras.layers import Dense\n",
        "from keras.preprocessing.image import ImageDataGenerator\n",
        "\n",
        "cnn = Sequential()"
      ],
      "execution_count": 7,
      "outputs": [
        {
          "output_type": "stream",
          "text": [
            "Using TensorFlow backend.\n"
          ],
          "name": "stderr"
        }
      ]
    },
    {
      "cell_type": "code",
      "metadata": {
        "id": "l0RsxRhvFfKb",
        "colab_type": "code",
        "outputId": "36ce1f73-17a6-40b3-8f61-255a0d72dbf3",
        "colab": {
          "base_uri": "https://localhost:8080/",
          "height": 88
        }
      },
      "source": [
        "#Adding 1st Convolution and Pooling Layer\n",
        "cnn.add(Conv2D(32,kernel_size=(3,3),input_shape = (64, 64, 3), activation = 'relu'))\n",
        "cnn.add(MaxPool2D(pool_size=(2,2)))\n",
        "\n",
        "#Adding 2nd Convolution and Pooling Layer\n",
        "cnn.add(Conv2D(32,kernel_size=(3,3),activation = 'relu'))\n",
        "cnn.add(MaxPool2D(pool_size=(2,2)))\n",
        "\n",
        "#Adding 3rd Convolution and Pooling Layer\n",
        "cnn.add(Conv2D(32,kernel_size=(3,3), activation = 'relu'))\n",
        "cnn.add(MaxPool2D(pool_size=(2,2)))\n",
        "\n",
        "#Adding 4th Convolution and Pooling Layer\n",
        "cnn.add(Conv2D(32,kernel_size=(3,3), activation = 'relu'))\n",
        "cnn.add(MaxPool2D(pool_size=(2,2)))\n",
        "\n",
        "#Flattening\n",
        "cnn.add(Flatten())\n",
        "\n",
        "cnn.add(Dense(units=128,activation='relu'))\n",
        "cnn.add(Dense(units = 1, activation = 'sigmoid'))\n",
        "\n",
        "#compile the model\n",
        "cnn.compile(optimizer = 'adam', loss = 'binary_crossentropy', metrics = ['accuracy'])"
      ],
      "execution_count": 8,
      "outputs": [
        {
          "output_type": "stream",
          "text": [
            "WARNING:tensorflow:From /usr/local/lib/python3.6/dist-packages/tensorflow/python/framework/op_def_library.py:263: colocate_with (from tensorflow.python.framework.ops) is deprecated and will be removed in a future version.\n",
            "Instructions for updating:\n",
            "Colocations handled automatically by placer.\n"
          ],
          "name": "stdout"
        }
      ]
    },
    {
      "cell_type": "code",
      "metadata": {
        "id": "BHFtjTLiE0rX",
        "colab_type": "code",
        "outputId": "01faa32c-dcb6-4850-adbe-311ee598440b",
        "colab": {
          "base_uri": "https://localhost:8080/",
          "height": 51
        }
      },
      "source": [
        "# data generation from cell images\n",
        "pdatagen = ImageDataGenerator(rescale=1./255,shear_range=0.2,zoom_range=0.2,horizontal_flip=True)\n",
        "udatagen = ImageDataGenerator(rescale=1./255)\n",
        "train = pdatagen.flow_from_directory('cell_images', target_size=(64,64), batch_size=32, class_mode = 'binary')\n",
        "test = udatagen.flow_from_directory('cell_images', target_size=(64,64), batch_size=32, class_mode = 'binary')"
      ],
      "execution_count": 9,
      "outputs": [
        {
          "output_type": "stream",
          "text": [
            "Found 27558 images belonging to 2 classes.\n",
            "Found 27558 images belonging to 2 classes.\n"
          ],
          "name": "stdout"
        }
      ]
    },
    {
      "cell_type": "code",
      "metadata": {
        "id": "Q3qS34N1GAfA",
        "colab_type": "code",
        "outputId": "2432ad98-50e0-40eb-cca0-f3b0a888d080",
        "colab": {
          "base_uri": "https://localhost:8080/",
          "height": 1108
        }
      },
      "source": [
        "# train the model on data \n",
        "acc = cnn.fit_generator(train, steps_per_epoch = 100, epochs = 30, validation_data = test, validation_steps = 50)"
      ],
      "execution_count": 10,
      "outputs": [
        {
          "output_type": "stream",
          "text": [
            "WARNING:tensorflow:From /usr/local/lib/python3.6/dist-packages/tensorflow/python/ops/math_ops.py:3066: to_int32 (from tensorflow.python.ops.math_ops) is deprecated and will be removed in a future version.\n",
            "Instructions for updating:\n",
            "Use tf.cast instead.\n",
            "Epoch 1/30\n",
            "100/100 [==============================] - 34s 335ms/step - loss: 0.6881 - acc: 0.5300 - val_loss: 0.6491 - val_acc: 0.6613\n",
            "Epoch 2/30\n",
            "100/100 [==============================] - 33s 328ms/step - loss: 0.5969 - acc: 0.6928 - val_loss: 0.5017 - val_acc: 0.7887\n",
            "Epoch 3/30\n",
            "100/100 [==============================] - 33s 326ms/step - loss: 0.3643 - acc: 0.8534 - val_loss: 0.2187 - val_acc: 0.9275\n",
            "Epoch 4/30\n",
            "100/100 [==============================] - 33s 328ms/step - loss: 0.2435 - acc: 0.9163 - val_loss: 0.2099 - val_acc: 0.9363\n",
            "Epoch 5/30\n",
            "100/100 [==============================] - 33s 326ms/step - loss: 0.2295 - acc: 0.9237 - val_loss: 0.1985 - val_acc: 0.9437\n",
            "Epoch 6/30\n",
            "100/100 [==============================] - 33s 329ms/step - loss: 0.2021 - acc: 0.9344 - val_loss: 0.1530 - val_acc: 0.9475\n",
            "Epoch 7/30\n",
            "100/100 [==============================] - 33s 329ms/step - loss: 0.1782 - acc: 0.9425 - val_loss: 0.1862 - val_acc: 0.9325\n",
            "Epoch 8/30\n",
            "100/100 [==============================] - 33s 329ms/step - loss: 0.1993 - acc: 0.9359 - val_loss: 0.2017 - val_acc: 0.9444\n",
            "Epoch 9/30\n",
            "100/100 [==============================] - 32s 322ms/step - loss: 0.1961 - acc: 0.9419 - val_loss: 0.1423 - val_acc: 0.9613\n",
            "Epoch 10/30\n",
            "100/100 [==============================] - 33s 329ms/step - loss: 0.1739 - acc: 0.9481 - val_loss: 0.1467 - val_acc: 0.9550\n",
            "Epoch 11/30\n",
            "100/100 [==============================] - 33s 327ms/step - loss: 0.1608 - acc: 0.9466 - val_loss: 0.1705 - val_acc: 0.9444\n",
            "Epoch 12/30\n",
            "100/100 [==============================] - 33s 326ms/step - loss: 0.1714 - acc: 0.9488 - val_loss: 0.1579 - val_acc: 0.9413\n",
            "Epoch 13/30\n",
            "100/100 [==============================] - 33s 328ms/step - loss: 0.1678 - acc: 0.9466 - val_loss: 0.1500 - val_acc: 0.9531\n",
            "Epoch 14/30\n",
            "100/100 [==============================] - 32s 324ms/step - loss: 0.1435 - acc: 0.9562 - val_loss: 0.1269 - val_acc: 0.9644\n",
            "Epoch 15/30\n",
            "100/100 [==============================] - 33s 326ms/step - loss: 0.1579 - acc: 0.9503 - val_loss: 0.1259 - val_acc: 0.9575\n",
            "Epoch 16/30\n",
            "100/100 [==============================] - 33s 327ms/step - loss: 0.1600 - acc: 0.9484 - val_loss: 0.1316 - val_acc: 0.9606\n",
            "Epoch 17/30\n",
            "100/100 [==============================] - 33s 326ms/step - loss: 0.1539 - acc: 0.9513 - val_loss: 0.1269 - val_acc: 0.9600\n",
            "Epoch 18/30\n",
            "100/100 [==============================] - 32s 323ms/step - loss: 0.1475 - acc: 0.9546 - val_loss: 0.1667 - val_acc: 0.9530\n",
            "Epoch 19/30\n",
            "100/100 [==============================] - 32s 325ms/step - loss: 0.1716 - acc: 0.9459 - val_loss: 0.1323 - val_acc: 0.9563\n",
            "Epoch 20/30\n",
            "100/100 [==============================] - 33s 326ms/step - loss: 0.1359 - acc: 0.9547 - val_loss: 0.1399 - val_acc: 0.9594\n",
            "Epoch 21/30\n",
            "100/100 [==============================] - 33s 326ms/step - loss: 0.1512 - acc: 0.9556 - val_loss: 0.1196 - val_acc: 0.9581\n",
            "Epoch 22/30\n",
            "100/100 [==============================] - 33s 325ms/step - loss: 0.1547 - acc: 0.9525 - val_loss: 0.1632 - val_acc: 0.9519\n",
            "Epoch 23/30\n",
            "100/100 [==============================] - 33s 325ms/step - loss: 0.1465 - acc: 0.9516 - val_loss: 0.1397 - val_acc: 0.9513\n",
            "Epoch 24/30\n",
            "100/100 [==============================] - 32s 325ms/step - loss: 0.1551 - acc: 0.9513 - val_loss: 0.1323 - val_acc: 0.9556\n",
            "Epoch 25/30\n",
            "100/100 [==============================] - 33s 326ms/step - loss: 0.1523 - acc: 0.9444 - val_loss: 0.1308 - val_acc: 0.9575\n",
            "Epoch 26/30\n",
            "100/100 [==============================] - 33s 326ms/step - loss: 0.1476 - acc: 0.9549 - val_loss: 0.2028 - val_acc: 0.9463\n",
            "Epoch 27/30\n",
            "100/100 [==============================] - 33s 325ms/step - loss: 0.1367 - acc: 0.9597 - val_loss: 0.1243 - val_acc: 0.9650\n",
            "Epoch 28/30\n",
            "100/100 [==============================] - 32s 324ms/step - loss: 0.1616 - acc: 0.9459 - val_loss: 0.1188 - val_acc: 0.9600\n",
            "Epoch 29/30\n",
            "100/100 [==============================] - 33s 326ms/step - loss: 0.1384 - acc: 0.9566 - val_loss: 0.1461 - val_acc: 0.9494\n",
            "Epoch 30/30\n",
            "100/100 [==============================] - 33s 328ms/step - loss: 0.1458 - acc: 0.9506 - val_loss: 0.1054 - val_acc: 0.9625\n"
          ],
          "name": "stdout"
        }
      ]
    },
    {
      "cell_type": "markdown",
      "metadata": {
        "id": "gJmPA3ey6x0C",
        "colab_type": "text"
      },
      "source": [
        "# Transfer Learning"
      ]
    },
    {
      "cell_type": "code",
      "metadata": {
        "id": "BjaXowly6mir",
        "colab_type": "code",
        "colab": {
          "base_uri": "https://localhost:8080/",
          "height": 51
        },
        "outputId": "dcab020e-419b-4fd0-83ca-2010aba56cd3"
      },
      "source": [
        "# RESNET50 from keras\n",
        "from keras.applications.resnet50 import ResNet50\n",
        "from keras.preprocessing import image\n",
        "from keras.applications.resnet50 import preprocess_input, decode_predictions\n",
        "from tensorflow.python.keras import optimizers\n",
        "import numpy as np\n",
        "\n",
        "model = Sequential()\n",
        "\n",
        "model.add(ResNet50(weights='imagenet'))\n",
        "model.add(Dense(1, activation = 'relu'))\n",
        "\n",
        "# dont train first layer (ResNet) model as it is already trained\n",
        "model.layers[0].trainable = False\n",
        "\n",
        "# data generation from cactus images\n",
        "traindatagen = ImageDataGenerator(rescale=1./255,shear_range=0.2,zoom_range=0.2,horizontal_flip=True)\n",
        "testdatagen = ImageDataGenerator(rescale=1./255)\n",
        "train = traindatagen.flow_from_directory('cell_images', target_size=(224,224), batch_size=32, class_mode = 'binary')\n",
        "test = testdatagen.flow_from_directory('cell_images', target_size=(224,224), batch_size=32, class_mode = 'binary')\n",
        "\n",
        "\n",
        "model.compile(optimizer = 'adam', loss = 'binary_crossentropy', metrics = ['accuracy'])"
      ],
      "execution_count": 11,
      "outputs": [
        {
          "output_type": "stream",
          "text": [
            "Found 27558 images belonging to 2 classes.\n",
            "Found 27558 images belonging to 2 classes.\n"
          ],
          "name": "stdout"
        }
      ]
    },
    {
      "cell_type": "code",
      "metadata": {
        "id": "euWSXeD2KsXa",
        "colab_type": "code",
        "outputId": "d1e1df34-22fa-4df0-87c9-ae1df0d940b6",
        "colab": {
          "base_uri": "https://localhost:8080/",
          "height": 71
        }
      },
      "source": [
        "# epoch number can be increased to 30. It is kept as 1 since it takes too much time\n",
        "acc = model.fit_generator(train, steps_per_epoch = 100, epochs = 1, validation_data = test, validation_steps = 50)"
      ],
      "execution_count": 12,
      "outputs": [
        {
          "output_type": "stream",
          "text": [
            "Epoch 1/1\n",
            "100/100 [==============================] - 1443s 14s/step - loss: 1.7294 - acc: 0.5006 - val_loss: 1.4193 - val_acc: 0.4863\n"
          ],
          "name": "stdout"
        }
      ]
    }
  ]
}