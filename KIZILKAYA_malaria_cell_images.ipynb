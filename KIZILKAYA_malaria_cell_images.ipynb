{
  "nbformat": 4,
  "nbformat_minor": 0,
  "metadata": {
    "colab": {
      "name": "KIZILKAYA_malaria_cell_images.ipynb",
      "version": "0.3.2",
      "provenance": [],
      "include_colab_link": true
    },
    "kernelspec": {
      "name": "python3",
      "display_name": "Python 3"
    }
  },
  "cells": [
    {
      "cell_type": "markdown",
      "metadata": {
        "id": "view-in-github",
        "colab_type": "text"
      },
      "source": [
        "<a href=\"https://colab.research.google.com/github/BurakKizilkaya/Machine-Learning/blob/master/KIZILKAYA_malaria_cell_images.ipynb\" target=\"_parent\"><img src=\"https://colab.research.google.com/assets/colab-badge.svg\" alt=\"Open In Colab\"/></a>"
      ]
    },
    {
      "cell_type": "markdown",
      "metadata": {
        "id": "V_hGBaL_sf7v",
        "colab_type": "text"
      },
      "source": [
        "# CNG 562 - HOMEWORK 2"
      ]
    },
    {
      "cell_type": "markdown",
      "metadata": {
        "id": "aU4xn_zBzVed",
        "colab_type": "text"
      },
      "source": [
        "# Detecting Malaria from Cell Images\n",
        "\n",
        "\n",
        "\n",
        "\n",
        "\n",
        "\n"
      ]
    },
    {
      "cell_type": "markdown",
      "metadata": {
        "id": "gTUNvy4ftARW",
        "colab_type": "text"
      },
      "source": [
        "## Convolution Neural Networks(CNN)"
      ]
    },
    {
      "cell_type": "code",
      "metadata": {
        "id": "_XNxrYWjAEGO",
        "colab_type": "code",
        "outputId": "2dded04c-06b5-4897-8d1b-3f1c1693a0bb",
        "colab": {
          "resources": {
            "http://localhost:8080/nbextensions/google.colab/files.js": {
              "data": "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",
              "ok": true,
              "headers": [
                [
                  "content-type",
                  "application/javascript"
                ]
              ],
              "status": 200,
              "status_text": ""
            }
          },
          "base_uri": "https://localhost:8080/",
          "height": 91
        }
      },
      "source": [
        "#importing train data\n",
        "\n",
        "from google.colab import files\n",
        "files.upload()"
      ],
      "execution_count": 0,
      "outputs": [
        {
          "output_type": "display_data",
          "data": {
            "text/html": [
              "\n",
              "     <input type=\"file\" id=\"files-2d928cd7-6a7b-485f-80d8-86beb4d6a655\" name=\"files[]\" multiple disabled />\n",
              "     <output id=\"result-2d928cd7-6a7b-485f-80d8-86beb4d6a655\">\n",
              "      Upload widget is only available when the cell has been executed in the\n",
              "      current browser session. Please rerun this cell to enable.\n",
              "      </output>\n",
              "      <script src=\"/nbextensions/google.colab/files.js\"></script> "
            ],
            "text/plain": [
              "<IPython.core.display.HTML object>"
            ]
          },
          "metadata": {
            "tags": []
          }
        },
        {
          "output_type": "stream",
          "text": [
            "Saving kaggle.json to kaggle.json\n"
          ],
          "name": "stdout"
        },
        {
          "output_type": "execute_result",
          "data": {
            "text/plain": [
              "{'kaggle.json': b'{\"username\":\"burakkizilkaya\",\"key\":\"1bfd587829e19b5e1716b370419b3cb7\"}'}"
            ]
          },
          "metadata": {
            "tags": []
          },
          "execution_count": 1
        }
      ]
    },
    {
      "cell_type": "code",
      "metadata": {
        "id": "70UwlFFY_x_7",
        "colab_type": "code",
        "colab": {
          "base_uri": "https://localhost:8080/",
          "height": 34
        },
        "outputId": "8d4921ac-5e89-4d6b-d804-c00d8b726e5a"
      },
      "source": [
        "#if there is no kaggle directory, create a new one.\n",
        "!mkdir -p ~/.kaggle\n",
        "#copy kaggle.json file to kaggle directory\n",
        "!cp kaggle.json ~/.kaggle/\n",
        "#give owner read and write access permissions\n",
        "!chmod 600 ~/.kaggle/kaggle.json\n",
        "#check files in kaggle directory\n",
        "!ls ~/.kaggle"
      ],
      "execution_count": 2,
      "outputs": [
        {
          "output_type": "stream",
          "text": [
            "kaggle.json\n"
          ],
          "name": "stdout"
        }
      ]
    },
    {
      "cell_type": "code",
      "metadata": {
        "id": "k_Q0119N_1lW",
        "colab_type": "code",
        "colab": {
          "base_uri": "https://localhost:8080/",
          "height": 136
        },
        "outputId": "bb71acab-5a04-4031-9833-4f3e473b4bd3"
      },
      "source": [
        "#install kaggle packages\n",
        "!pip install -q kaggle\n",
        "!pip install -q kaggle-cli"
      ],
      "execution_count": 3,
      "outputs": [
        {
          "output_type": "stream",
          "text": [
            "\u001b[K     |████████████████████████████████| 81kB 3.2MB/s \n",
            "\u001b[K     |████████████████████████████████| 5.3MB 5.6MB/s \n",
            "\u001b[K     |████████████████████████████████| 51kB 20.1MB/s \n",
            "\u001b[K     |████████████████████████████████| 102kB 10.7MB/s \n",
            "\u001b[K     |████████████████████████████████| 112kB 47.0MB/s \n",
            "\u001b[?25h  Building wheel for kaggle-cli (setup.py) ... \u001b[?25l\u001b[?25hdone\n",
            "  Building wheel for pyperclip (setup.py) ... \u001b[?25l\u001b[?25hdone\n"
          ],
          "name": "stdout"
        }
      ]
    },
    {
      "cell_type": "code",
      "metadata": {
        "id": "cvIuNsjT_4L2",
        "colab_type": "code",
        "colab": {
          "base_uri": "https://localhost:8080/",
          "height": 68
        },
        "outputId": "05c869ea-0aa8-456f-caf0-02eb0d652d80"
      },
      "source": [
        "#download cell-images dataset\n",
        "#!kaggle datasets download -d iarunava/cell-images-for-detecting-malaria\n",
        "!kaggle datasets download -d irvingvasquez/cactus-aerial-photos"
      ],
      "execution_count": 21,
      "outputs": [
        {
          "output_type": "stream",
          "text": [
            "Downloading cactus-aerial-photos.zip to /content\n",
            " 91% 43.0M/47.3M [00:00<00:00, 57.1MB/s]\n",
            "100% 47.3M/47.3M [00:00<00:00, 96.3MB/s]\n"
          ],
          "name": "stdout"
        }
      ]
    },
    {
      "cell_type": "code",
      "metadata": {
        "id": "zPq2PZNUATck",
        "colab_type": "code",
        "colab": {}
      },
      "source": [
        "#unzip downloaded dataset file\n",
        "!unzip cell-images-for-detecting-malaria.zip\n"
      ],
      "execution_count": 0,
      "outputs": []
    },
    {
      "cell_type": "code",
      "metadata": {
        "id": "2y3CzNizFa-7",
        "colab_type": "code",
        "colab": {
          "base_uri": "https://localhost:8080/",
          "height": 34
        },
        "outputId": "aaece7b0-8778-4bf1-a8e7-fbdfba8a6434"
      },
      "source": [
        "# Using Keras Sequential Model\n",
        "\n",
        "#import libraries\n",
        "from keras.models import Sequential\n",
        "from keras.layers import Conv2D\n",
        "from keras.layers import MaxPool2D\n",
        "from keras.layers import Flatten\n",
        "from keras.layers import Dense\n",
        "from keras.preprocessing.image import ImageDataGenerator\n",
        "\n",
        "cnn = Sequential()"
      ],
      "execution_count": 10,
      "outputs": [
        {
          "output_type": "stream",
          "text": [
            "Using TensorFlow backend.\n"
          ],
          "name": "stderr"
        }
      ]
    },
    {
      "cell_type": "code",
      "metadata": {
        "id": "l0RsxRhvFfKb",
        "colab_type": "code",
        "colab": {
          "base_uri": "https://localhost:8080/",
          "height": 88
        },
        "outputId": "3f544564-53b0-41e5-84bc-3ffdf8e8a4d1"
      },
      "source": [
        "#Adding 1st Convolution and Pooling Layer\n",
        "cnn.add(Conv2D(32,kernel_size=(3,3),input_shape = (64, 64, 3), activation = 'relu'))\n",
        "cnn.add(MaxPool2D(pool_size=(2,2)))\n",
        "\n",
        "#Adding 2nd Convolution and Pooling Layer\n",
        "cnn.add(Conv2D(32,kernel_size=(3,3),activation = 'relu'))\n",
        "cnn.add(MaxPool2D(pool_size=(2,2)))\n",
        "\n",
        "#Adding 3rd Convolution and Pooling Layer\n",
        "cnn.add(Conv2D(32,kernel_size=(3,3), activation = 'relu'))\n",
        "cnn.add(MaxPool2D(pool_size=(2,2)))\n",
        "\n",
        "#Adding 4th Convolution and Pooling Layer\n",
        "cnn.add(Conv2D(32,kernel_size=(3,3), activation = 'relu'))\n",
        "cnn.add(MaxPool2D(pool_size=(2,2)))\n",
        "\n",
        "#Flattening\n",
        "cnn.add(Flatten())\n",
        "\n",
        "cnn.add(Dense(units=128,activation='relu'))\n",
        "cnn.add(Dense(units = 1, activation = 'sigmoid'))\n",
        "\n",
        "#compile the model\n",
        "cnn.compile(optimizer = 'adam', loss = 'binary_crossentropy', metrics = ['accuracy'])"
      ],
      "execution_count": 11,
      "outputs": [
        {
          "output_type": "stream",
          "text": [
            "WARNING:tensorflow:From /usr/local/lib/python3.6/dist-packages/tensorflow/python/framework/op_def_library.py:263: colocate_with (from tensorflow.python.framework.ops) is deprecated and will be removed in a future version.\n",
            "Instructions for updating:\n",
            "Colocations handled automatically by placer.\n"
          ],
          "name": "stdout"
        }
      ]
    },
    {
      "cell_type": "code",
      "metadata": {
        "id": "BHFtjTLiE0rX",
        "colab_type": "code",
        "colab": {
          "base_uri": "https://localhost:8080/",
          "height": 51
        },
        "outputId": "813a094c-cef7-4f75-8280-678e68b7b716"
      },
      "source": [
        "# data generation from cell images\n",
        "pdatagen = ImageDataGenerator(rescale=1./255,shear_range=0.2,zoom_range=0.2,horizontal_flip=True)\n",
        "udatagen = ImageDataGenerator(rescale=1./255)\n",
        "pdata = pdatagen.flow_from_directory('cell_images', target_size=(64,64), batch_size=32, class_mode = 'binary')\n",
        "udata = udatagen.flow_from_directory('cell_images', target_size=(64,64), batch_size=32, class_mode = 'binary')"
      ],
      "execution_count": 13,
      "outputs": [
        {
          "output_type": "stream",
          "text": [
            "Found 27558 images belonging to 2 classes.\n",
            "Found 27558 images belonging to 2 classes.\n"
          ],
          "name": "stdout"
        }
      ]
    },
    {
      "cell_type": "code",
      "metadata": {
        "id": "Q3qS34N1GAfA",
        "colab_type": "code",
        "colab": {
          "base_uri": "https://localhost:8080/",
          "height": 1108
        },
        "outputId": "ee5c3726-dbb3-4676-db22-42e4a22e0329"
      },
      "source": [
        "# train the model on data \n",
        "acc = cnn.fit_generator(pdata, steps_per_epoch = 100, epochs = 30, validation_data = udata, validation_steps = 50)"
      ],
      "execution_count": 14,
      "outputs": [
        {
          "output_type": "stream",
          "text": [
            "WARNING:tensorflow:From /usr/local/lib/python3.6/dist-packages/tensorflow/python/ops/math_ops.py:3066: to_int32 (from tensorflow.python.ops.math_ops) is deprecated and will be removed in a future version.\n",
            "Instructions for updating:\n",
            "Use tf.cast instead.\n",
            "Epoch 1/30\n",
            "100/100 [==============================] - 36s 359ms/step - loss: 0.6933 - acc: 0.5062 - val_loss: 0.6982 - val_acc: 0.4925\n",
            "Epoch 2/30\n",
            "100/100 [==============================] - 34s 341ms/step - loss: 0.6002 - acc: 0.6634 - val_loss: 0.4264 - val_acc: 0.8438\n",
            "Epoch 3/30\n",
            "100/100 [==============================] - 34s 338ms/step - loss: 0.2745 - acc: 0.8916 - val_loss: 0.2470 - val_acc: 0.9256\n",
            "Epoch 4/30\n",
            "100/100 [==============================] - 34s 340ms/step - loss: 0.2421 - acc: 0.9253 - val_loss: 0.1814 - val_acc: 0.9406\n",
            "Epoch 5/30\n",
            "100/100 [==============================] - 35s 346ms/step - loss: 0.1938 - acc: 0.9328 - val_loss: 0.2335 - val_acc: 0.9031\n",
            "Epoch 6/30\n",
            "100/100 [==============================] - 34s 336ms/step - loss: 0.1988 - acc: 0.9350 - val_loss: 0.1599 - val_acc: 0.9475\n",
            "Epoch 7/30\n",
            "100/100 [==============================] - 34s 338ms/step - loss: 0.1776 - acc: 0.9406 - val_loss: 0.1703 - val_acc: 0.9487\n",
            "Epoch 8/30\n",
            "100/100 [==============================] - 34s 341ms/step - loss: 0.1770 - acc: 0.9444 - val_loss: 0.1708 - val_acc: 0.9475\n",
            "Epoch 9/30\n",
            "100/100 [==============================] - 34s 340ms/step - loss: 0.1904 - acc: 0.9394 - val_loss: 0.1507 - val_acc: 0.9500\n",
            "Epoch 10/30\n",
            "100/100 [==============================] - 34s 343ms/step - loss: 0.1736 - acc: 0.9459 - val_loss: 0.1520 - val_acc: 0.9587\n",
            "Epoch 11/30\n",
            "100/100 [==============================] - 35s 346ms/step - loss: 0.1590 - acc: 0.9484 - val_loss: 0.1607 - val_acc: 0.9519\n",
            "Epoch 12/30\n",
            "100/100 [==============================] - 34s 341ms/step - loss: 0.1526 - acc: 0.9513 - val_loss: 0.1559 - val_acc: 0.9563\n",
            "Epoch 13/30\n",
            "100/100 [==============================] - 34s 342ms/step - loss: 0.1570 - acc: 0.9531 - val_loss: 0.1460 - val_acc: 0.9537\n",
            "Epoch 14/30\n",
            "100/100 [==============================] - 35s 347ms/step - loss: 0.1549 - acc: 0.9509 - val_loss: 0.1268 - val_acc: 0.9625\n",
            "Epoch 15/30\n",
            "100/100 [==============================] - 34s 341ms/step - loss: 0.1486 - acc: 0.9531 - val_loss: 0.1524 - val_acc: 0.9481\n",
            "Epoch 16/30\n",
            "100/100 [==============================] - 34s 339ms/step - loss: 0.1657 - acc: 0.9453 - val_loss: 0.1634 - val_acc: 0.9487\n",
            "Epoch 17/30\n",
            "100/100 [==============================] - 34s 341ms/step - loss: 0.1587 - acc: 0.9497 - val_loss: 0.1485 - val_acc: 0.9563\n",
            "Epoch 18/30\n",
            "100/100 [==============================] - 34s 337ms/step - loss: 0.1554 - acc: 0.9512 - val_loss: 0.1489 - val_acc: 0.9447\n",
            "Epoch 19/30\n",
            "100/100 [==============================] - 34s 340ms/step - loss: 0.1528 - acc: 0.9519 - val_loss: 0.1450 - val_acc: 0.9581\n",
            "Epoch 20/30\n",
            "100/100 [==============================] - 35s 346ms/step - loss: 0.1505 - acc: 0.9537 - val_loss: 0.1619 - val_acc: 0.9575\n",
            "Epoch 21/30\n",
            "100/100 [==============================] - 34s 344ms/step - loss: 0.1406 - acc: 0.9553 - val_loss: 0.1442 - val_acc: 0.9587\n",
            "Epoch 22/30\n",
            "100/100 [==============================] - 34s 341ms/step - loss: 0.1417 - acc: 0.9559 - val_loss: 0.1294 - val_acc: 0.9600\n",
            "Epoch 23/30\n",
            "100/100 [==============================] - 35s 349ms/step - loss: 0.1547 - acc: 0.9506 - val_loss: 0.1442 - val_acc: 0.9544\n",
            "Epoch 24/30\n",
            "100/100 [==============================] - 35s 345ms/step - loss: 0.1533 - acc: 0.9478 - val_loss: 0.1507 - val_acc: 0.9506\n",
            "Epoch 25/30\n",
            "100/100 [==============================] - 34s 345ms/step - loss: 0.1425 - acc: 0.9566 - val_loss: 0.1302 - val_acc: 0.9581\n",
            "Epoch 26/30\n",
            "100/100 [==============================] - 34s 340ms/step - loss: 0.1538 - acc: 0.9521 - val_loss: 0.1685 - val_acc: 0.9431\n",
            "Epoch 27/30\n",
            "100/100 [==============================] - 34s 341ms/step - loss: 0.1373 - acc: 0.9537 - val_loss: 0.1295 - val_acc: 0.9537\n",
            "Epoch 28/30\n",
            "100/100 [==============================] - 34s 343ms/step - loss: 0.1446 - acc: 0.9516 - val_loss: 0.1407 - val_acc: 0.9569\n",
            "Epoch 29/30\n",
            "100/100 [==============================] - 33s 335ms/step - loss: 0.1469 - acc: 0.9544 - val_loss: 0.1273 - val_acc: 0.9606\n",
            "Epoch 30/30\n",
            "100/100 [==============================] - 33s 330ms/step - loss: 0.1534 - acc: 0.9506 - val_loss: 0.1306 - val_acc: 0.9587\n"
          ],
          "name": "stdout"
        }
      ]
    },
    {
      "cell_type": "code",
      "metadata": {
        "id": "euWSXeD2KsXa",
        "colab_type": "code",
        "colab": {
          "base_uri": "https://localhost:8080/",
          "height": 1037
        },
        "outputId": "50286078-fae1-450d-8e76-0cc0be64e4df"
      },
      "source": [
        "acc2 = cnn.fit_generator(udata, steps_per_epoch = 100, epochs = 30, validation_data = pdata, validation_steps = 50)"
      ],
      "execution_count": 15,
      "outputs": [
        {
          "output_type": "stream",
          "text": [
            "Epoch 1/30\n",
            "100/100 [==============================] - 33s 334ms/step - loss: 0.1206 - acc: 0.9631 - val_loss: 0.1340 - val_acc: 0.9531\n",
            "Epoch 2/30\n",
            "100/100 [==============================] - 32s 322ms/step - loss: 0.1317 - acc: 0.9562 - val_loss: 0.1316 - val_acc: 0.9600\n",
            "Epoch 3/30\n",
            "100/100 [==============================] - 32s 317ms/step - loss: 0.1306 - acc: 0.9581 - val_loss: 0.1547 - val_acc: 0.9494\n",
            "Epoch 4/30\n",
            "100/100 [==============================] - 32s 318ms/step - loss: 0.1250 - acc: 0.9591 - val_loss: 0.1816 - val_acc: 0.9494\n",
            "Epoch 5/30\n",
            "100/100 [==============================] - 32s 316ms/step - loss: 0.1279 - acc: 0.9581 - val_loss: 0.1443 - val_acc: 0.9525\n",
            "Epoch 6/30\n",
            "100/100 [==============================] - 32s 316ms/step - loss: 0.1425 - acc: 0.9531 - val_loss: 0.1380 - val_acc: 0.9544\n",
            "Epoch 7/30\n",
            "100/100 [==============================] - 32s 321ms/step - loss: 0.1108 - acc: 0.9641 - val_loss: 0.1398 - val_acc: 0.9531\n",
            "Epoch 8/30\n",
            "100/100 [==============================] - 32s 319ms/step - loss: 0.1294 - acc: 0.9572 - val_loss: 0.1349 - val_acc: 0.9550\n",
            "Epoch 9/30\n",
            "100/100 [==============================] - 32s 316ms/step - loss: 0.1280 - acc: 0.9591 - val_loss: 0.1334 - val_acc: 0.9606\n",
            "Epoch 10/30\n",
            "100/100 [==============================] - 32s 317ms/step - loss: 0.1375 - acc: 0.9584 - val_loss: 0.1438 - val_acc: 0.9531\n",
            "Epoch 11/30\n",
            "100/100 [==============================] - 32s 316ms/step - loss: 0.1254 - acc: 0.9587 - val_loss: 0.1426 - val_acc: 0.9469\n",
            "Epoch 12/30\n",
            "100/100 [==============================] - 33s 332ms/step - loss: 0.1113 - acc: 0.9613 - val_loss: 0.1733 - val_acc: 0.9431\n",
            "Epoch 13/30\n",
            "100/100 [==============================] - 33s 329ms/step - loss: 0.1067 - acc: 0.9644 - val_loss: 0.1337 - val_acc: 0.9563\n",
            "Epoch 14/30\n",
            "100/100 [==============================] - 33s 331ms/step - loss: 0.1278 - acc: 0.9550 - val_loss: 0.1370 - val_acc: 0.9581\n",
            "Epoch 15/30\n",
            "100/100 [==============================] - 33s 330ms/step - loss: 0.1312 - acc: 0.9581 - val_loss: 0.1403 - val_acc: 0.9575\n",
            "Epoch 16/30\n",
            "100/100 [==============================] - 33s 328ms/step - loss: 0.1321 - acc: 0.9547 - val_loss: 0.1378 - val_acc: 0.9575\n",
            "Epoch 17/30\n",
            "100/100 [==============================] - 33s 335ms/step - loss: 0.1183 - acc: 0.9603 - val_loss: 0.1491 - val_acc: 0.9519\n",
            "Epoch 18/30\n",
            "100/100 [==============================] - 33s 329ms/step - loss: 0.1168 - acc: 0.9587 - val_loss: 0.1157 - val_acc: 0.9644\n",
            "Epoch 19/30\n",
            "100/100 [==============================] - 32s 323ms/step - loss: 0.1194 - acc: 0.9594 - val_loss: 0.1200 - val_acc: 0.9606\n",
            "Epoch 20/30\n",
            "100/100 [==============================] - 33s 325ms/step - loss: 0.1275 - acc: 0.9580 - val_loss: 0.1180 - val_acc: 0.9650\n",
            "Epoch 21/30\n",
            "100/100 [==============================] - 32s 322ms/step - loss: 0.1073 - acc: 0.9613 - val_loss: 0.1216 - val_acc: 0.9587\n",
            "Epoch 22/30\n",
            "100/100 [==============================] - 32s 323ms/step - loss: 0.0985 - acc: 0.9650 - val_loss: 0.1334 - val_acc: 0.9556\n",
            "Epoch 23/30\n",
            "100/100 [==============================] - 32s 321ms/step - loss: 0.1046 - acc: 0.9675 - val_loss: 0.1199 - val_acc: 0.9569\n",
            "Epoch 24/30\n",
            "100/100 [==============================] - 33s 327ms/step - loss: 0.1184 - acc: 0.9616 - val_loss: 0.1236 - val_acc: 0.9569\n",
            "Epoch 25/30\n",
            "100/100 [==============================] - 33s 333ms/step - loss: 0.1181 - acc: 0.9591 - val_loss: 0.1542 - val_acc: 0.9487\n",
            "Epoch 26/30\n",
            "100/100 [==============================] - 34s 338ms/step - loss: 0.1185 - acc: 0.9591 - val_loss: 0.1414 - val_acc: 0.9543\n",
            "Epoch 27/30\n",
            "100/100 [==============================] - 33s 332ms/step - loss: 0.1144 - acc: 0.9631 - val_loss: 0.1400 - val_acc: 0.9556\n",
            "Epoch 28/30\n",
            "100/100 [==============================] - 33s 332ms/step - loss: 0.1184 - acc: 0.9581 - val_loss: 0.1471 - val_acc: 0.9481\n",
            "Epoch 29/30\n",
            "100/100 [==============================] - 33s 333ms/step - loss: 0.1138 - acc: 0.9594 - val_loss: 0.1315 - val_acc: 0.9556\n",
            "Epoch 30/30\n",
            "100/100 [==============================] - 33s 332ms/step - loss: 0.1052 - acc: 0.9644 - val_loss: 0.1031 - val_acc: 0.9631\n"
          ],
          "name": "stdout"
        }
      ]
    }
  ]
}